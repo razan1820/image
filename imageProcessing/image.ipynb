{
 "cells": [
  {
   "cell_type": "code",
   "execution_count": 5,
   "metadata": {},
   "outputs": [],
   "source": [
    "from PIL import Image\n"
   ]
  },
  {
   "cell_type": "code",
   "execution_count": 12,
   "metadata": {},
   "outputs": [],
   "source": [
    "img1 = Image.open(\"D:\\photos for google\\cat.jpg\")\n",
    "img1.show()\n"
   ]
  },
  {
   "cell_type": "code",
   "execution_count": 13,
   "metadata": {},
   "outputs": [],
   "source": [
    "img2 = Image.open(\"D:\\photos for google\\dog.jpg\")\n",
    "img2.show()"
   ]
  },
  {
   "cell_type": "code",
   "execution_count": 14,
   "metadata": {},
   "outputs": [
    {
     "name": "stderr",
     "output_type": "stream",
     "text": [
      "C:\\Users\\pc\\AppData\\Local\\Temp\\ipykernel_13924\\2799205926.py:2: DeprecationWarning: ANTIALIAS is deprecated and will be removed in Pillow 10 (2023-07-01). Use LANCZOS or Resampling.LANCZOS instead.\n",
      "  img1 =img1.resize(resize, Image.ANTIALIAS)\n",
      "C:\\Users\\pc\\AppData\\Local\\Temp\\ipykernel_13924\\2799205926.py:3: DeprecationWarning: ANTIALIAS is deprecated and will be removed in Pillow 10 (2023-07-01). Use LANCZOS or Resampling.LANCZOS instead.\n",
      "  img2 =img2.resize(resize, Image.ANTIALIAS)\n"
     ]
    }
   ],
   "source": [
    "resize =(400,400)\n",
    "img1 =img1.resize(resize, Image.ANTIALIAS)\n",
    "img2 =img2.resize(resize, Image.ANTIALIAS)"
   ]
  },
  {
   "cell_type": "code",
   "execution_count": 16,
   "metadata": {},
   "outputs": [],
   "source": [
    "from numpy import *"
   ]
  },
  {
   "cell_type": "code",
   "execution_count": 18,
   "metadata": {},
   "outputs": [],
   "source": [
    "im1arr =asarray(img1)\n",
    "im2arr =asarray(img2)\n",
    "addition = im1arr + im2arr\n",
    "resultImage = Image.fromarray(addition)\n",
    "resultImage.show()"
   ]
  },
  {
   "cell_type": "code",
   "execution_count": 19,
   "metadata": {},
   "outputs": [],
   "source": [
    "im1arr = asarray(img1)\n",
    "addition =im1arr +100\n",
    "resultImage = Image.fromarray(addition)\n",
    "resultImage.show()"
   ]
  },
  {
   "cell_type": "code",
   "execution_count": null,
   "metadata": {},
   "outputs": [],
   "source": [
    "im1arr = asarray(img1)\n",
    "addition = 254 -im1arr \n",
    "resultImage = Image.fromarray(addition)\n",
    "resultImage.show()"
   ]
  }
 ],
 "metadata": {
  "kernelspec": {
   "display_name": "Python 3",
   "language": "python",
   "name": "python3"
  },
  "language_info": {
   "codemirror_mode": {
    "name": "ipython",
    "version": 3
   },
   "file_extension": ".py",
   "mimetype": "text/x-python",
   "name": "python",
   "nbconvert_exporter": "python",
   "pygments_lexer": "ipython3",
   "version": "3.10.10"
  },
  "orig_nbformat": 4
 },
 "nbformat": 4,
 "nbformat_minor": 2
}
